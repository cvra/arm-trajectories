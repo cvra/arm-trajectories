{
 "cells": [
  {
   "cell_type": "code",
   "execution_count": 1,
   "metadata": {
    "collapsed": false
   },
   "outputs": [
    {
     "name": "stdout",
     "output_type": "stream",
     "text": [
      "Populating the interactive namespace from numpy and matplotlib\n"
     ]
    },
    {
     "name": "stderr",
     "output_type": "stream",
     "text": [
      "WARNING: pylab import has clobbered these variables: ['linalg', 'info', 'fft', 'random', 'draw_if_interactive', 'power']\n",
      "`%matplotlib` prevents importing * from pylab and numpy\n"
     ]
    }
   ],
   "source": [
    "from scara import *\n",
    "import spline\n",
    "from pylab import *\n",
    "%pylab inline"
   ]
  },
  {
   "cell_type": "code",
   "execution_count": 11,
   "metadata": {
    "collapsed": true
   },
   "outputs": [],
   "source": [
    "def kinematics_test_plot(pos, a, b, limits):\n",
    "    x = pos[0]\n",
    "    y = pos[1]\n",
    "    (alpha, beta) = inverse_kinematics((x, y), a, b, limits)\n",
    "    (x_f, y_f) = forward_kinematics((alpha, beta), a, b)\n",
    "    plot([0, a*np.cos(alpha), x_f], [0, b*np.sin(alpha), y_f])"
   ]
  },
  {
   "cell_type": "code",
   "execution_count": 12,
   "metadata": {
    "collapsed": false
   },
   "outputs": [
    {
     "data": {
      "text/plain": [
       "[(0.5, 0.0),\n",
       " (0.50000000000000022, 1.0),\n",
       " (1.5, 1.0000000000000002),\n",
       " (1.5, 0.0),\n",
       " (0.5, 0.0)]"
      ]
     },
     "execution_count": 12,
     "metadata": {},
     "output_type": "execute_result"
    }
   ],
   "source": [
    "a = 1\n",
    "b = 1\n",
    "limits = [[-3.14/2, 3.14/2], [-3.14*0.9, 3.14*0.9]]\n",
    "\n",
    "points = [[0.5, 0], [0.5, 1], [1.5, 1], [1.5, 0], [0.5, 0]]\n",
    "\n",
    "points_inv = [inverse_kinematics(p, a, b, limits) for p in points]\n",
    "points_check = [forward_kinematics(p, a, b) for p in points_inv]\n",
    "points_check"
   ]
  },
  {
   "cell_type": "code",
   "execution_count": 13,
   "metadata": {
    "collapsed": false
   },
   "outputs": [
    {
     "data": {
      "text/plain": [
       "(-0.5, 2.0, -1.5, 1.5)"
      ]
     },
     "execution_count": 13,
     "metadata": {},
     "output_type": "execute_result"
    },
    {
     "data": {
      "image/png": "[encoded data removed]",
      "text/plain": [
       "<matplotlib.figure.Figure at 0x7f6cd0b30ac8>"
      ]
     },
     "metadata": {},
     "output_type": "display_data"
    }
   ],
   "source": [
    "traj = spline.SplineTrajectory(points_inv, start_dir=None, end_dir=None, roundness=0.1)\n",
    "resolution = 0.1\n",
    "sampled_traj = traj.get_sample_points(resolution)\n",
    "positions = [point.position for point in sampled_traj]\n",
    "positions = [forward_kinematics(p, a, b) for p in positions]\n",
    "scatter(*zip(*positions))\n",
    "xlabel('x')\n",
    "ylabel('y')\n",
    "\n",
    "for p in points:\n",
    "    hold(True)\n",
    "    kinematics_test_plot(p, a, b, limits)\n",
    "    \n",
    "grid(True)\n",
    "axis('equal')"
   ]
  },
  {
   "cell_type": "code",
   "execution_count": null,
   "metadata": {
    "collapsed": true
   },
   "outputs": [],
   "source": []
  }
 ],
 "metadata": {
  "kernelspec": {
   "display_name": "Python 3",
   "language": "python",
   "name": "python3"
  },
  "language_info": {
   "codemirror_mode": {
    "name": "ipython",
    "version": 3
   },
   "file_extension": ".py",
   "mimetype": "text/x-python",
   "name": "python",
   "nbconvert_exporter": "python",
   "pygments_lexer": "ipython3",
   "version": "3.5.1"
  }
 },
 "nbformat": 4,
 "nbformat_minor": 0
}
