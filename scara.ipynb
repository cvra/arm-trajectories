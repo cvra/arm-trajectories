{
 "cells": [
  {
   "cell_type": "code",
   "execution_count": 1,
   "metadata": {
    "collapsed": false
   },
   "outputs": [],
   "source": [
    "from scara import *\n",
    "import spline\n",
    "from pylab import *\n",
    "#%pylab inline"
   ]
  },
  {
   "cell_type": "code",
   "execution_count": 2,
   "metadata": {
    "collapsed": true
   },
   "outputs": [],
   "source": [
    "def kinematics_test_plot(pos, a, b, limits):\n",
    "    import numpy as np\n",
    "    x = pos[0]\n",
    "    y = pos[1]\n",
    "    (alpha, beta) = inverse_kinematics((x, y), a, b, limits)\n",
    "    print(alpha, beta)\n",
    "    (x_f, y_f) = forward_kinematics((alpha, beta), a, b)\n",
    "    plot([0, a*np.cos(alpha), x_f], [0, a*np.sin(alpha), y_f])"
   ]
  },
  {
   "cell_type": "code",
   "execution_count": 3,
   "metadata": {
    "collapsed": false,
    "scrolled": true
   },
   "outputs": [
    {
     "data": {
      "text/plain": [
       "[(192.0, 0.0),\n",
       " (140.00000000000003, 51.999999999999964),\n",
       " (100.00000000000003, 100.0),\n",
       " (100.00000000000003, 150.0),\n",
       " (1.1756609271814592e-14, 192.0)]"
      ]
     },
     "execution_count": 3,
     "metadata": {},
     "output_type": "execute_result"
    }
   ],
   "source": [
    "a = 140\n",
    "b = 52\n",
    "limits = [[-3.14/180*120, 3.14/180*120], [-3.14/180*125, 3.14/180*125]]\n",
    "\n",
    "points = [[192, 0], [140, 52], [100, 100], [100, 150], [0, 192]]\n",
    "\n",
    "points_inv = [inverse_kinematics(p, a, b, limits) for p in points]\n",
    "points_check = [forward_kinematics(p, a, b) for p in points_inv]\n",
    "points_check"
   ]
  },
  {
   "cell_type": "code",
   "execution_count": 4,
   "metadata": {
    "collapsed": false
   },
   "outputs": [
    {
     "name": "stdout",
     "output_type": "stream",
     "text": [
      "0.0 0.0\n",
      "-2.77555756156e-16 1.57079632679\n",
      "0.413845368118 1.72970604707\n",
      "0.775397535102 0.795014065288\n",
      "1.57079632679 0.0\n"
     ]
    }
   ],
   "source": [
    "traj = spline.SplineTrajectory(points_inv, start_dir=None, end_dir=None, roundness=0.8)\n",
    "resolution = 0.1\n",
    "sampled_traj = traj.get_sample_points(resolution)\n",
    "positions = [point.position for point in sampled_traj]\n",
    "positions = [forward_kinematics(p, a, b) for p in positions]\n",
    "scatter(*zip(*positions))\n",
    "xlabel('x')\n",
    "ylabel('y')\n",
    "\n",
    "for p in points:\n",
    "    hold(True)\n",
    "    kinematics_test_plot(p, a, b, limits)\n",
    "    \n",
    "grid(True)\n",
    "axis('equal')\n",
    "show()"
   ]
  },
  {
   "cell_type": "code",
   "execution_count": 5,
   "metadata": {
    "collapsed": false
   },
   "outputs": [],
   "source": [
    "import trajectory\n",
    "\n",
    "def actuator_limits(position, velocity):\n",
    "    return ([-0.5, -0.5], [0.5, 0.5])\n",
    "\n",
    "tp = trajectory.compute_trajectory(traj, actuator_limits, 1, 0.05, v_limit=20)"
   ]
  },
  {
   "cell_type": "code",
   "execution_count": 6,
   "metadata": {
    "collapsed": true
   },
   "outputs": [],
   "source": [
    "dyn_pts = list(zip(*tp))\n",
    "pos_t = list(zip(*dyn_pts[0]))\n",
    "vel_t = list(zip(*dyn_pts[1]))\n",
    "acc_t = list(zip(*dyn_pts[2]))\n",
    "\n",
    "quiver(pos_t[0], pos_t[1], np.array(vel_t[0]), np.array(vel_t[1]), width=0.0022, pivot='tail', color='r')\n",
    "quiver(pos_t[0], pos_t[1], np.array(acc_t[0]), np.array(acc_t[1]), width=0.0022, pivot='tail', color='g')\n",
    "scatter(*pos_t, s=3)\n",
    "\n",
    "axis('equal')\n",
    "legend(['vel', 'acc'])\n",
    "\n",
    "figure()\n",
    "step(range(len(acc_t[0])), acc_t[0][:])\n",
    "step(range(len(acc_t[1])), acc_t[1][:])\n",
    "plot(vel_t[0])\n",
    "plot(vel_t[1])\n",
    "plot([np.linalg.norm(i) for i in zip(*vel_t)])\n",
    "plot(pos_t[1][:])\n",
    "legend(['acc 1', 'acc 2', 'vel 1', 'vel 2', '|vel|', 'pos'])\n",
    "grid(True)\n",
    "show()"
   ]
  }
 ],
 "metadata": {
  "kernelspec": {
   "display_name": "Python 3",
   "language": "python",
   "name": "python3"
  },
  "language_info": {
   "codemirror_mode": {
    "name": "ipython",
    "version": 3
   },
   "file_extension": ".py",
   "mimetype": "text/x-python",
   "name": "python",
   "nbconvert_exporter": "python",
   "pygments_lexer": "ipython3",
   "version": "3.5.1"
  }
 },
 "nbformat": 4,
 "nbformat_minor": 0
}
